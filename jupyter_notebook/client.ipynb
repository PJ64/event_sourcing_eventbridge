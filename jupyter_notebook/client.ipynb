{
 "cells": [
  {
   "cell_type": "markdown",
   "metadata": {},
   "source": [
    "## Event Sourcing with Amazon EventBridge"
   ]
  },
  {
   "cell_type": "markdown",
   "metadata": {},
   "source": [
    "\n",
    "\n"
   ]
  },
  {
   "cell_type": "markdown",
   "metadata": {},
   "source": [
    "This example demonstrates using Amazon EventBridge to invoke Lambda functions when events are added to the EventBus. In the example event rules are used to trigger the Lambda functions. There is an event rule created for new orders and a rule that catches update operations. One Lambda function inserts into a DynamoDB table while the other function updates the item in the table."
   ]
  },
  {
   "cell_type": "markdown",
   "metadata": {},
   "source": [
    "![architecture](../images/architecture_1.png \"Architecture\")"
   ]
  },
  {
   "cell_type": "markdown",
   "metadata": {},
   "source": [
    "**Jupyter Notebook Scripts**\n",
    "\n",
    "1. The first script sends new orders to the gateway endpoint. The event rule for new orders filters on the ``` 'eventtype'::['new_order']``` attribute.\n",
    "\n",
    "\n",
    "2. The second script sends an order update to the gateway endpoint. The event rule for order updates filters on the ```'eventtype':['update_order']``` attribute.\n",
    "\n",
    "\n",
    "3. Before you run the final script you need to create an event rule to catch delete operations by using the ```'eventtype':['delete_order']``` attribute, the delete script includes the ```'eventtype':['delete_order']```.\n",
    "\n",
    "\n",
    "**Note:** Make sure you set gwid to your gateway id using - gwid = '...'"
   ]
  },
  {
   "cell_type": "code",
   "execution_count": 1,
   "metadata": {},
   "outputs": [
    {
     "name": "stdout",
     "output_type": "stream",
     "text": [
      "<Response [200]>\n"
     ]
    }
   ],
   "source": [
    "import boto3, requests, datetime\n",
    "from random import randrange\n",
    "\n",
    "#Set gateway id\n",
    "gwid = 'bc6xmpkpqd'\n",
    "\n",
    "city_list=[\"Adelaide\",\"Brisbane\",\"Canberra\",\"Darwin\",\"Geelong\",\"Gold Coast\",\"Hobart\",\"Melbourne\",\"Perth\",\"Sydney\",\"Wollongong\"]\n",
    "coffeetype_list=[\"Short Black\",\"Flat White\",\"Latte\",\"Long Black\"]\n",
    "coffeesize_list=[{\"size\":\"Small\",\"price\":\"3.5\"},{\"size\":\"Medium\",\"price\":\"4.0\"},{\"size\":\"Large\",\"price\":\"4.5\"},{\"size\":\"x-Large\",\"price\":\"5.0\"}]\n",
    "\n",
    "url = (f'https://{gwid}.execute-api.ap-southeast-2.amazonaws.com')\n",
    "\n",
    "for i in range(100):\n",
    "    accountid = 'a' + str(i)\n",
    "    vendorid = 'v' + str(i)\n",
    "    orderdate = str(datetime.datetime.now())\n",
    "    \n",
    "    #Original value, random selection\n",
    "    coffeesize = randrange(4)\n",
    "    #-------------------------\n",
    "\n",
    "    quantity = randrange(10)+1\n",
    "    city = city_list[randrange(11)]\n",
    "    eventtype=\"new_order\"\n",
    "    response = requests.post(url,json={'order':{\n",
    "            'accountid': accountid,\n",
    "            'orderdate':orderdate,\n",
    "            'vendorid': vendorid,\n",
    "            'city':city,\n",
    "            'details':{\n",
    "                'coffeetype': coffeetype_list[randrange(4)],\n",
    "                'coffeesize': coffeesize_list[coffeesize][\"size\"],\n",
    "                'unitprice': coffeesize_list[coffeesize][\"price\"],\n",
    "                'quantity': quantity\n",
    "            },\n",
    "            'eventtype':[eventtype]\n",
    "        }\n",
    "    })\n",
    "\n",
    "print(response)"
   ]
  },
  {
   "cell_type": "markdown",
   "metadata": {},
   "source": [
    "**Update** items in DynamoDB.\n",
    "\n",
    "\n",
    "After executing the update script, check DynamoDB for the following changes made to the first 10 records.\n",
    "\n",
    "* coffeetype is changed to Flat White \n",
    "\n",
    "* coffeesize is changed to Large"
   ]
  },
  {
   "cell_type": "code",
   "execution_count": 2,
   "metadata": {
    "scrolled": true
   },
   "outputs": [
    {
     "name": "stdout",
     "output_type": "stream",
     "text": [
      "<Response [200]>\n"
     ]
    }
   ],
   "source": [
    "import json, boto3, requests, datetime\n",
    "\n",
    "#Set gateway id   \n",
    "city_list=[\"Adelaide\",\"Brisbane\",\"canberra\",\"Darwin\",\"Geelong\",\"Hobart\",\"Melbourne\",\"Perth\",\"Sydney\",\"Wollongong\"]\n",
    "\n",
    "url = (f'https://{gwid}.execute-api.ap-southeast-2.amazonaws.com')\n",
    "\n",
    "for i in range(10):\n",
    "    accountid = 'a' + str(i)\n",
    "    vendorid = 'v' + str(i)\n",
    "    orderdate = str(datetime.datetime.now())\n",
    "    \n",
    "    #Changes-----------------\n",
    "    coffeetype = 'Flat white'\n",
    "    coffeesize = 'Large'\n",
    "    #------------------------\n",
    "    \n",
    "    unitprice = \"4.50\"\n",
    "    quantity = 1\n",
    "    city = city_list[i]\n",
    "    \n",
    "    #EventBus rule filters on event type\n",
    "    eventtype=\"update_order\"\n",
    "    \n",
    "    response = requests.post(url,json={'order':{\n",
    "            'accountid': accountid,\n",
    "            'orderdate':orderdate,\n",
    "            'vendorid': vendorid,\n",
    "            'city':city,\n",
    "            'details':{\n",
    "                'coffeetype': coffeetype,\n",
    "                'coffeesize': coffeesize,\n",
    "                'unitprice': unitprice,\n",
    "                'quantity': quantity\n",
    "            },\n",
    "            'eventtype':[eventtype]\n",
    "        }\n",
    "    })\n",
    "\n",
    "print(response)\n"
   ]
  },
  {
   "cell_type": "markdown",
   "metadata": {},
   "source": [
    "**Amazon EventBridge**. Using Amazon EventBridge create a rule that catches delete operations using the following settings.\n",
    "\n",
    "Event Bus: ```event_sourcing_eventbridge```\n",
    "\n",
    "Name: ``` event_sourcing_eventbridge_delete_order```\n",
    "\n",
    "Target: ```Lambda```\n",
    "\n",
    "Function: ```event_sourcing_eventbridge_delete_item```\n",
    "\n",
    "Event pattern: \n",
    "```\n",
    "{\n",
    "  \"detail\": {\n",
    "    \"order\": {\n",
    "      \"eventtype\": [\"delete_order\"]\n",
    "    }\n",
    "  }\n",
    "}\n",
    "```\n"
   ]
  },
  {
   "cell_type": "markdown",
   "metadata": {},
   "source": [
    "**Delete Item**. After executing the script check DynamoDB for the an item with accountid':'a0' and 'vendorid':'v0'"
   ]
  },
  {
   "cell_type": "code",
   "execution_count": null,
   "metadata": {},
   "outputs": [],
   "source": [
    "delete_url = (f'https://{gwid}.execute-api.ap-southeast-2.amazonaws.com')\n",
    "\n",
    "#EventBus rule filters on event type\n",
    "eventtype=\"delete_order\"\n",
    "    \n",
    "response = requests.post(delete_url,json={'order':{'accountid':'a0','vendorid':'v0','eventtype':[eventtype]}})\n",
    "\n",
    "print(response)"
   ]
  },
  {
   "cell_type": "markdown",
   "metadata": {},
   "source": [
    "**Clean up**. You will need delete the ```event_sourcing_eventbridge_delete_order``` before you can destroy the stack. This can be done manually or you can run the following AWS Cli commands.\n",
    "\n",
    "```\n",
    "aws events list-targets-by-rule  --event-bus-name event_sourcing_eventbridge --rule \"event_sourcing_eventbridge_delete_order\" --query 'Targets[0].[Id][0]'\n",
    "\n",
    "aws events remove-targets --event-bus-name event_sourcing_eventbridge --rule \"event_sourcing_eventbridge_delete_order\" --ids \"<returned form last query>\"\n",
    "\n",
    "aws events delete-rule --event-bus-name event_sourcing_eventbridge --name \"event_sourcing_eventbridge_delete_order\"\n",
    "```"
   ]
  },
  {
   "cell_type": "code",
   "execution_count": null,
   "metadata": {},
   "outputs": [],
   "source": []
  }
 ],
 "metadata": {
  "kernelspec": {
   "display_name": "Python 3",
   "language": "python",
   "name": "python3"
  },
  "language_info": {
   "codemirror_mode": {
    "name": "ipython",
    "version": 3
   },
   "file_extension": ".py",
   "mimetype": "text/x-python",
   "name": "python",
   "nbconvert_exporter": "python",
   "pygments_lexer": "ipython3",
   "version": "3.8.5"
  }
 },
 "nbformat": 4,
 "nbformat_minor": 4
}
