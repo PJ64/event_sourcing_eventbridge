{
 "cells": [
  {
   "cell_type": "markdown",
   "metadata": {},
   "source": [
    "## Event Sourcing with Amazon EventBridge"
   ]
  },
  {
   "cell_type": "markdown",
   "metadata": {},
   "source": [
    "\n",
    "\n"
   ]
  },
  {
   "cell_type": "markdown",
   "metadata": {},
   "source": [
    "This example demonstrates using Amazon EventBridge to invoke Lambda functions when events are added to the EventBus. In the example event rules are used to trigger the Lambda functions. There is an event rule created for new orders and a rule that catches update operations. One Lambda function inserts into a DynamoDB table while the other function updates the item in the table."
   ]
  },
  {
   "cell_type": "markdown",
   "metadata": {},
   "source": [
    "![architecture](../images/architecture_1.png \"Architecture\")"
   ]
  },
  {
   "cell_type": "markdown",
   "metadata": {},
   "source": [
    "**Jupyter Notebook Scripts**\n",
    "\n",
    "1. The first script sends new orders to the gateway endpoint. The event rule for new orders filters on the ``` 'eventtype'::['new_order']``` attribute.\n",
    "\n",
    "2. The second script sends an order update to the gateway endpoint. The event rule for order updates filters on the ```'eventtype':['update_order']``` attribute.\n",
    "\n",
    "**Note:** Make sure you set gwid to your gateway id using - gwid = '...'"
   ]
  },
  {
   "cell_type": "code",
   "execution_count": null,
   "metadata": {},
   "outputs": [],
   "source": [
    "import json, boto3, requests, datetime\n",
    "\n",
    "#Set gateway id\n",
    "gwid = '...'\n",
    "    \n",
    "city_list=[\"Adelaide\",\"Brisbane\",\"canberra\",\"Darwin\",\"Geelong\",\"Hobart\",\"Melbourne\",\"Perth\",\"Sydney\",\"Wollongong\"]\n",
    "\n",
    "url = (f'https://{gwid}.execute-api.ap-southeast-2.amazonaws.com/')\n",
    "\n",
    "for i in range(10):\n",
    "    accountid = 'a' + str(i)\n",
    "    vendorid = 'v' + str(i)\n",
    "    orderdate = str(datetime.datetime.now())\n",
    "    \n",
    "    #Original value-----------\n",
    "    coffeetype = 'Short Black'\n",
    "    coffeesize = 'Small'\n",
    "    #-------------------------\n",
    "    \n",
    "    unitprice = str(4.50 * (i+1))\n",
    "    quantity = str(i+1)\n",
    "    city = city_list[i]\n",
    "    \n",
    "    #EventBus rule filters on event type\n",
    "    eventtype=\"new_order\"\n",
    "    \n",
    "    response = requests.post(url,json={'order':{\n",
    "            'accountid': accountid,\n",
    "            'orderdate':orderdate,\n",
    "            'vendorid': vendorid,\n",
    "            'city':city,\n",
    "            'details':{\n",
    "                'coffeetype': coffeetype,\n",
    "                'coffeesize': coffeesize,\n",
    "                'unitprice': unitprice,\n",
    "                'quantity': quantity\n",
    "            },\n",
    "            'eventtype':[eventtype]\n",
    "        }\n",
    "    })\n",
    "\n",
    "print(response)\n"
   ]
  },
  {
   "cell_type": "markdown",
   "metadata": {},
   "source": [
    "**Update** items in DynamoDB.\n",
    "Check DynamoDB for the following changes.\n",
    "\n",
    "* coffeetype is changed from Short Black to Flat White \n",
    "\n",
    "* coffeesize is changed from Small to Large"
   ]
  },
  {
   "cell_type": "code",
   "execution_count": null,
   "metadata": {
    "scrolled": true
   },
   "outputs": [],
   "source": [
    "import json, boto3, requests, datetime\n",
    "\n",
    "#Set gateway id   \n",
    "city_list=[\"Adelaide\",\"Brisbane\",\"canberra\",\"Darwin\",\"Geelong\",\"Hobart\",\"Melbourne\",\"Perth\",\"Sydney\",\"Wollongong\"]\n",
    "\n",
    "url = (f'https://{gwid}.execute-api.ap-southeast-2.amazonaws.com/')\n",
    "\n",
    "for i in range(10):\n",
    "    accountid = 'a' + str(i)\n",
    "    vendorid = 'v' + str(i)\n",
    "    orderdate = str(datetime.datetime.now())\n",
    "    \n",
    "    #Changes-----------------\n",
    "    coffeetype = 'Flat white'\n",
    "    coffeesize = 'Large'\n",
    "    #------------------------\n",
    "    \n",
    "    unitprice = str(4.50 * (i+1))\n",
    "    quantity = str(i+1)\n",
    "    city = city_list[i]\n",
    "    \n",
    "    #EventBus rule filters on event type\n",
    "    eventtype=\"update_order\"\n",
    "    \n",
    "    response = requests.post(url,json={'order':{\n",
    "            'accountid': accountid,\n",
    "            'orderdate':orderdate,\n",
    "            'vendorid': vendorid,\n",
    "            'city':city,\n",
    "            'details':{\n",
    "                'coffeetype': coffeetype,\n",
    "                'coffeesize': coffeesize,\n",
    "                'unitprice': unitprice,\n",
    "                'quantity': quantity\n",
    "            },\n",
    "            'eventtype':[eventtype]\n",
    "        }\n",
    "    })\n",
    "\n",
    "print(response)\n"
   ]
  },
  {
   "cell_type": "code",
   "execution_count": null,
   "metadata": {},
   "outputs": [],
   "source": []
  }
 ],
 "metadata": {
  "kernelspec": {
   "display_name": "Python 3",
   "language": "python",
   "name": "python3"
  },
  "language_info": {
   "codemirror_mode": {
    "name": "ipython",
    "version": 3
   },
   "file_extension": ".py",
   "mimetype": "text/x-python",
   "name": "python",
   "nbconvert_exporter": "python",
   "pygments_lexer": "ipython3",
   "version": "3.8.5"
  }
 },
 "nbformat": 4,
 "nbformat_minor": 4
}
